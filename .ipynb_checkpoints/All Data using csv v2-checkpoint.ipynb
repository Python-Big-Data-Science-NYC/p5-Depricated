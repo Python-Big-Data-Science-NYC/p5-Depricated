{
 "cells": [
  {
   "cell_type": "code",
   "execution_count": 1,
   "metadata": {},
   "outputs": [],
   "source": [
    "import pandas as pd"
   ]
  },
  {
   "cell_type": "markdown",
   "metadata": {},
   "source": [
    "Data Link = https://collegescorecard.ed.gov/data/"
   ]
  },
  {
   "cell_type": "code",
   "execution_count": 5,
   "metadata": {
    "scrolled": false
   },
   "outputs": [
    {
     "name": "stderr",
     "output_type": "stream",
     "text": [
      "D:\\ProgramData\\Anaconda3\\lib\\site-packages\\IPython\\core\\interactiveshell.py:2728: DtypeWarning: Columns (6,9,1725,1726,1727,1728,1729,1743) have mixed types. Specify dtype option on import or set low_memory=False.\n",
      "  interactivity=interactivity, compiler=compiler, result=result)\n"
     ]
    }
   ],
   "source": [
    "df= pd.read_csv(r\"C:\\Users\\shivg\\pythoncode\\naveen\\Naveen Python project-5\\project-5\\CollegeScorecard_Raw_Data\\CollegeScorecard_Raw_Data\\MERGED2015_16_PP.csv\")"
   ]
  },
  {
   "cell_type": "code",
   "execution_count": 6,
   "metadata": {},
   "outputs": [
    {
     "data": {
      "text/plain": [
       "UNITID            7593\n",
       "OPEID             7593\n",
       "OPEID6            7593\n",
       "INSTNM            7593\n",
       "CITY              7593\n",
       "STABBR            7593\n",
       "ZIP               7593\n",
       "ACCREDAGENCY      6673\n",
       "INSTURL           7573\n",
       "NPCURL            7075\n",
       "SCH_DEG              0\n",
       "HCM2              7593\n",
       "MAIN              7593\n",
       "NUMBRANCH         7593\n",
       "PREDDEG           7593\n",
       "HIGHDEG           7593\n",
       "CONTROL           7593\n",
       "ST_FIPS           7593\n",
       "REGION            7593\n",
       "LOCALE            7147\n",
       "LOCALE2              0\n",
       "LATITUDE          7147\n",
       "LONGITUDE         7147\n",
       "CCBASIC           7147\n",
       "CCUGPROF          7147\n",
       "CCSIZSET          7147\n",
       "HBCU              7147\n",
       "PBI               7147\n",
       "ANNHI             7147\n",
       "TRIBAL            7147\n",
       "                  ... \n",
       "GRADS             2101\n",
       "ACCREDCODE        6673\n",
       "OMACHT6_FTFT      3955\n",
       "OMAWDP6_FTFT      3807\n",
       "OMACHT8_FTFT      3955\n",
       "OMAWDP8_FTFT      3807\n",
       "OMENRYP8_FTFT     3807\n",
       "OMENRAP8_FTFT     3807\n",
       "OMENRUP8_FTFT     3807\n",
       "OMACHT6_PTFT      3955\n",
       "OMAWDP6_PTFT      2668\n",
       "OMACHT8_PTFT      3955\n",
       "OMAWDP8_PTFT      2667\n",
       "OMENRYP8_PTFT     2667\n",
       "OMENRAP8_PTFT     2667\n",
       "OMENRUP8_PTFT     2667\n",
       "OMACHT6_FTNFT     3955\n",
       "OMAWDP6_FTNFT     3671\n",
       "OMACHT8_FTNFT     3955\n",
       "OMAWDP8_FTNFT     3671\n",
       "OMENRYP8_FTNFT    3671\n",
       "OMENRAP8_FTNFT    3671\n",
       "OMENRUP8_FTNFT    3671\n",
       "OMACHT6_PTNFT     3955\n",
       "OMAWDP6_PTNFT     2948\n",
       "OMACHT8_PTNFT     3955\n",
       "OMAWDP8_PTNFT     2947\n",
       "OMENRYP8_PTNFT    2947\n",
       "OMENRAP8_PTNFT    2947\n",
       "OMENRUP8_PTNFT    2947\n",
       "Length: 1805, dtype: int64"
      ]
     },
     "execution_count": 6,
     "metadata": {},
     "output_type": "execute_result"
    }
   ],
   "source": [
    "df.count()"
   ]
  },
  {
   "cell_type": "code",
   "execution_count": null,
   "metadata": {},
   "outputs": [],
   "source": []
  }
 ],
 "metadata": {
  "kernelspec": {
   "display_name": "Python 3",
   "language": "python",
   "name": "python3"
  },
  "language_info": {
   "codemirror_mode": {
    "name": "ipython",
    "version": 3
   },
   "file_extension": ".py",
   "mimetype": "text/x-python",
   "name": "python",
   "nbconvert_exporter": "python",
   "pygments_lexer": "ipython3",
   "version": "3.6.4"
  }
 },
 "nbformat": 4,
 "nbformat_minor": 2
}
